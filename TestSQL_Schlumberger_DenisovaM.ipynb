{
  "nbformat": 4,
  "nbformat_minor": 0,
  "metadata": {
    "colab": {
      "name": "TestSQL_Schlumberger_DenisovaM.ipynb",
      "provenance": [],
      "authorship_tag": "ABX9TyNUDewUpLyG3nXH9y/F+goV",
      "include_colab_link": true
    },
    "kernelspec": {
      "name": "python3",
      "display_name": "Python 3"
    },
    "language_info": {
      "name": "python"
    }
  },
  "cells": [
    {
      "cell_type": "markdown",
      "metadata": {
        "id": "view-in-github",
        "colab_type": "text"
      },
      "source": [
        "<a href=\"https://colab.research.google.com/github/takimunk/hackchange/blob/main/TestSQL_Schlumberger_DenisovaM.ipynb\" target=\"_parent\"><img src=\"https://colab.research.google.com/assets/colab-badge.svg\" alt=\"Open In Colab\"/></a>"
      ]
    },
    {
      "cell_type": "code",
      "execution_count": null,
      "metadata": {
        "id": "tVJZOIp_1h-J"
      },
      "outputs": [],
      "source": [
        "    select \n",
        "          cust.CUSTID,\n",
        "          cust.CUSTNAME,\n",
        "          w.WELLCOUNT,\n",
        "          r.REV,\n",
        "    from CUSTOMERS as cust\n",
        "\n",
        "    left join WELLS as w \n",
        "          on  w.CUSTID = cust.CUSTID\n",
        "\n",
        "    left join REVENUE as r\n",
        "         on r.CUSTID = cust.CUSTID\n",
        "\n",
        "group by  cust.CUSTID,\n",
        "                cust.CUSTNAME\n",
        "\n",
        "having w.WELLCOUNT > avg(w.WELLCOUNT) and\n",
        "           r.REV < avg(r.REV)"
      ]
    }
  ]
}