{
 "cells": [
  {
   "cell_type": "code",
   "execution_count": null,
   "id": "31f0d155",
   "metadata": {},
   "outputs": [],
   "source": [
    "import json\n",
    "import time\n",
    "from kafka import KafkaProducer\n",
    "\n",
    "\n",
    "def serializer(message):\n",
    "    # message - JSON object\n",
    "    return json.dumps(message).encode('utf-8')\n",
    "\n",
    "\n",
    "def send_messages(producer, topic, path):\n",
    "    # producer - a Kafka Producer object\n",
    "    # topic - name of the Kafka Topic\n",
    "    # path - path to the JSON file\n",
    "\n",
    "    with open(path) as f:\n",
    "        for jsonObj in f:\n",
    "            message = json.loads(jsonObj)\n",
    "            producer.send(topic, message)\n",
    "\n",
    "    producer.flush()\n",
    "\n",
    "\n",
    "def on_send_success(record_metadata):\n",
    "    # record_metadata - Message sent to Kafka metadata\n",
    "    print(f\"Topic: {record_metadata.topic} / Partition: {record_metadata.partition} / Offset: {record_metadata.offset}\")\n",
    "\n",
    "\n",
    "# Create Producer\n",
    "producer = KafkaProducer(bootstrap_servers=['kafka:9092'],\n",
    "                         api_version=(0, 10), value_serializer=serializer)\n",
    "\n",
    "# Send messages to particular topic\n",
    "send_messages(producer, 'mobile_client', \"../data/mobile_client.json\")\n",
    "send_messages(producer, 'web_client', \"../data/web_client.json\")"
   ]
  }
 ],
 "metadata": {
  "kernelspec": {
   "display_name": "Python 3",
   "language": "python",
   "name": "python3"
  },
  "language_info": {
   "codemirror_mode": {
    "name": "ipython",
    "version": 3
   },
   "file_extension": ".py",
   "mimetype": "text/x-python",
   "name": "python",
   "nbconvert_exporter": "python",
   "pygments_lexer": "ipython3",
   "version": "3.8.8"
  }
 },
 "nbformat": 4,
 "nbformat_minor": 5
}
